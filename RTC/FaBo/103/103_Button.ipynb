{
 "cells": [
  {
   "cell_type": "markdown",
   "metadata": {},
   "source": [
    "# 環境設定\n",
    "\n",
    "configファイルにパスを通す。パスの参照順は以下の通り。\n",
    "Jupyterから特定のconfigファイルを読ませるために、カレントフォルダにrtc.confを事前に作成しておく。\n",
    "\n",
    "* コマンドラインオプション \"-f\"\n",
    "* 環境変数 \"RTC_MANAGER_CONFIG\"\n",
    "* デフォルト設定ファイル \"./rtc.conf\"\n",
    "* デフォルト設定ファイル \"/etc/rtc.conf\"\n",
    "* デフォルト設定ファイル \"/etc/rtc/rtc.conf\"\n",
    "* デフォルト設定ファイル \"/usr/local/etc/rtc.conf\"\n",
    "* デフォルト設定ファイル \"/usr/local/etc/rtc/rtc.conf\"\n",
    "* 埋め込みコンフィギュレーション値"
   ]
  },
  {
   "cell_type": "code",
   "execution_count": 5,
   "metadata": {},
   "outputs": [
    {
     "name": "stdout",
     "output_type": "stream",
     "text": [
      "./rtc.conf\r\n"
     ]
    }
   ],
   "source": [
    "!ls ./rtc.conf"
   ]
  },
  {
   "cell_type": "markdown",
   "metadata": {},
   "source": [
    "rtc.confの内容は以下の通り。\n",
    "logger.enableをYESに設定し起動履歴をログに出力する。Python上ではうまくエラーが拾えないので必須。\n",
    "\n",
    "logger.file_nameで、ログ・ファイル名を指定。rtc.log に出力する設定とする。"
   ]
  },
  {
   "cell_type": "code",
   "execution_count": 6,
   "metadata": {},
   "outputs": [
    {
     "name": "stdout",
     "output_type": "stream",
     "text": [
      "corba.nameservers: localhost\r\n",
      "exec_cxt.periodic.rate:1000.0\r\n",
      "naming.formats: %n.rtc\r\n",
      "logger.enable: YES\r\n",
      "logger.file_name: rtc.log\r\n"
     ]
    }
   ],
   "source": [
    "!more ./rtc.conf"
   ]
  },
  {
   "cell_type": "markdown",
   "metadata": {},
   "source": [
    "# RTCのソース\n",
    "\n",
    "今回は、104のAngleをSPI通信で、SP3008というチップを経由して取得しにいくので、`import spidev`でspiのライブラリをimportする。　"
   ]
  },
  {
   "cell_type": "code",
   "execution_count": 1,
   "metadata": {
    "collapsed": true
   },
   "outputs": [],
   "source": [
    "#!/usr/bin/env python\n",
    "# coding: utf-8\n",
    "# Python \n",
    "\n",
    "import RPi.GPIO as GPIO\n",
    "import spidev\n",
    "import time\n",
    "import sys\n",
    "import RTC\n",
    "import OpenRTM_aist"
   ]
  },
  {
   "cell_type": "markdown",
   "metadata": {},
   "source": [
    "configurationの値を設定する。"
   ]
  },
  {
   "cell_type": "code",
   "execution_count": 2,
   "metadata": {
    "collapsed": true
   },
   "outputs": [],
   "source": [
    "fabobutton_spec = [\"implementation_id\", \"FaBoButton\",\n",
    "              \"type_name\",      \"FaBoButtonComponent\",\n",
    "              \"description\",      \"FaBo Button component\",\n",
    "              \"version\",            \"1.0\",\n",
    "              \"vendor\",            \"GClue, Inc.\",\n",
    "              \"category\",          \"fabo\",\n",
    "              \"activity_type\",     \"DataFlowComponent\",\n",
    "              \"max_instance\",   \"10\",\n",
    "              \"language\",          \"Python\",\n",
    "              \"lang_type\",         \"script\",\n",
    "              \"\"]\n",
    "\n",
    "BUTTON_PIN = 5"
   ]
  },
  {
   "cell_type": "markdown",
   "metadata": {},
   "source": [
    "Buttonが押されたらTrueを、戻ったらFalseを送る"
   ]
  },
  {
   "cell_type": "code",
   "execution_count": 3,
   "metadata": {
    "collapsed": true
   },
   "outputs": [],
   "source": [
    "class FaBoButton(OpenRTM_aist.DataFlowComponentBase):\n",
    "\n",
    "    def __init__(self, manager):\n",
    "        print \"__init__\"\n",
    "        OpenRTM_aist.DataFlowComponentBase.__init__(self, manager)\n",
    "\n",
    "        self._button     = RTC.TimedBoolean(RTC.Time(0,0),False)\n",
    "        self._buttonOut    = OpenRTM_aist.OutPort(\"BUTTON\", self._button)\n",
    "        self.addOutPort(\"BUTTON\", self._buttonOut)\n",
    "\n",
    "        return\n",
    "\n",
    "    def onInitialize(self):\n",
    "        print \"onInitialize\"\n",
    "\n",
    "        GPIO.setwarnings(False)\n",
    "        GPIO.setmode( GPIO.BCM )\n",
    "        GPIO.setup(BUTTON_PIN, GPIO.IN )\n",
    "        return RTC.RTC_OK\n",
    "\n",
    "    def onExecute(self, ec_id):\n",
    "        print \"onExcute\"\n",
    "\n",
    "        if( GPIO.input(BUTTON_PIN)):\n",
    "            self._button.data = True\n",
    "            self._buttonOut.write()\n",
    "        else:\n",
    "            self._button.data = False\n",
    "            self._buttonOut.write()\n",
    "\n",
    "        return RTC.RTC_OK"
   ]
  },
  {
   "cell_type": "code",
   "execution_count": 4,
   "metadata": {},
   "outputs": [
    {
     "name": "stdout",
     "output_type": "stream",
     "text": [
      "main\n",
      "MyModuleInit\n",
      "FaBoButtonInit\n",
      "__init__\n",
      "onInitialize\n",
      "Traceback (most recent call last):\n",
      "  File \"/usr/lib/python2.7/dist-packages/OpenRTM_aist/CorbaNaming.py\", line 616, in unbind\n",
      "    self._rootContext.unbind(name_)\n",
      "  File \"/usr/lib/python2.7/dist-packages/CosNaming_idl.py\", line 234, in unbind\n",
      "    return _omnipy.invoke(self, \"unbind\", _0_CosNaming.NamingContext._d_unbind, args)\n",
      "NotFound: CosNaming.NamingContext.NotFound(why=missing_node, rest_of_name=[CosNaming.NameComponent(id='FaBoButtonComponent0', kind='rtc')])\n",
      "\n"
     ]
    }
   ],
   "source": [
    "def FaBoButtonInit(manager):\n",
    "    print \"FaBoButtonInit\"\n",
    "    profile = OpenRTM_aist.Properties(defaults_str=fabobutton_spec)\n",
    "    manager.registerFactory(profile,\n",
    "                            FaBoButton,\n",
    "                            OpenRTM_aist.Delete)    \n",
    "\n",
    "def MyModuleInit(manager):\n",
    "    print \"MyModuleInit\"\n",
    "    FaBoButtonInit(manager)\n",
    "\n",
    "    # Create a component\n",
    "    comp = manager.createComponent(\"FaBoButton\")\n",
    "\n",
    "def main():\n",
    "    print \"main\"\n",
    "    mgr = OpenRTM_aist.Manager.init(sys.argv)\n",
    "    mgr.setModuleInitProc(MyModuleInit)\n",
    "    mgr.activateManager()\n",
    "    mgr.runManager()\n",
    "\n",
    "if __name__ == \"__main__\":\n",
    "    main()"
   ]
  },
  {
   "cell_type": "code",
   "execution_count": null,
   "metadata": {
    "collapsed": true
   },
   "outputs": [],
   "source": []
  }
 ],
 "metadata": {
  "kernelspec": {
   "display_name": "Python 2",
   "language": "python",
   "name": "python2"
  },
  "language_info": {
   "codemirror_mode": {
    "name": "ipython",
    "version": 2
   },
   "file_extension": ".py",
   "mimetype": "text/x-python",
   "name": "python",
   "nbconvert_exporter": "python",
   "pygments_lexer": "ipython2",
   "version": "2.7.9"
  }
 },
 "nbformat": 4,
 "nbformat_minor": 2
}
