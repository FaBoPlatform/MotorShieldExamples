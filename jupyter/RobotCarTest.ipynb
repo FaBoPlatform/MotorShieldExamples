{
 "cells": [
  {
   "cell_type": "markdown",
   "metadata": {},
   "source": [
    "# TEST1\n",
    "I2Cが認識できているかのテスト\n",
    "\n",
    "0x64 Motor Driver 1\n",
    "0x65 Motor Driver 2\n",
    "0x70 PWM"
   ]
  },
  {
   "cell_type": "code",
   "execution_count": 1,
   "metadata": {},
   "outputs": [
    {
     "name": "stdout",
     "output_type": "stream",
     "text": [
      "     0  1  2  3  4  5  6  7  8  9  a  b  c  d  e  f\n",
      "00:          -- -- -- -- -- -- -- -- -- -- -- -- -- \n",
      "10: -- -- -- -- -- -- -- -- -- -- -- -- -- -- -- -- \n",
      "20: -- -- -- -- -- -- -- -- -- -- -- -- -- -- -- -- \n",
      "30: -- -- -- -- -- -- -- -- -- -- -- -- -- -- -- -- \n",
      "40: 40 -- -- -- -- -- -- -- -- -- -- -- -- -- -- -- \n",
      "50: -- -- -- -- -- -- -- -- -- -- -- -- -- -- -- -- \n",
      "60: -- -- -- -- 64 65 -- -- -- -- -- -- -- -- -- -- \n",
      "70: 70 -- -- -- -- -- -- --                         \n"
     ]
    }
   ],
   "source": [
    "!sudo i2cdetect -y 1"
   ]
  },
  {
   "cell_type": "markdown",
   "metadata": {},
   "source": [
    "# TEST2\n",
    "\n",
    "前方方向への回転テスト"
   ]
  },
  {
   "cell_type": "code",
   "execution_count": 2,
   "metadata": {},
   "outputs": [
    {
     "name": "stdout",
     "output_type": "stream",
     "text": [
      "init\n",
      "value = 99"
     ]
    }
   ],
   "source": [
    "import time\n",
    "import sys\n",
    "\n",
    "import MotorShield\n",
    "\n",
    "r = MotorShield.RobotCar()\n",
    "r.car_stop()\n",
    "\n",
    "for i in range(0,100):\n",
    "    sys.stdout.write(\"\\rvalue = %d\" % i)\n",
    "    sys.stdout.flush()\n",
    "    r.car_forward(i)\n",
    "    time.sleep(0.2)\n",
    "\n",
    "r.car_stop()"
   ]
  },
  {
   "cell_type": "markdown",
   "metadata": {},
   "source": [
    "# TEST3\n",
    "\n",
    "後方方向への回転テスト"
   ]
  },
  {
   "cell_type": "code",
   "execution_count": 3,
   "metadata": {},
   "outputs": [
    {
     "name": "stdout",
     "output_type": "stream",
     "text": [
      "init\n",
      "value = 99"
     ]
    }
   ],
   "source": [
    "import time\n",
    "import sys\n",
    "\n",
    "import MotorShield\n",
    "\n",
    "r = MotorShield.RobotCar()\n",
    "r.car_stop()\n",
    "\n",
    "for i in range(0,100):\n",
    "    sys.stdout.write(\"\\rvalue = %d\" % i)\n",
    "    sys.stdout.flush()\n",
    "    r.car_back(i)\n",
    "    time.sleep(0.2)\n",
    "\n",
    "r.car_stop()"
   ]
  },
  {
   "cell_type": "markdown",
   "metadata": {},
   "source": [
    "# TEST4\n",
    "\n",
    "ブレーキテスト<br>\n",
    "3秒前進後、ブレーキ"
   ]
  },
  {
   "cell_type": "code",
   "execution_count": 15,
   "metadata": {},
   "outputs": [
    {
     "name": "stdout",
     "output_type": "stream",
     "text": [
      "init\n"
     ]
    }
   ],
   "source": [
    "import time\n",
    "import MotorShield\n",
    "\n",
    "r = MotorShield.RobotCar()\n",
    "r.car_stop()\n",
    "\n",
    "r.car_forward(100)\n",
    "time.sleep(3)\n",
    "r.car_stop()\n",
    "r.car_brake()"
   ]
  },
  {
   "cell_type": "markdown",
   "metadata": {},
   "source": [
    "# TEST5\n",
    "\n",
    "ハンドルの原点位置確認"
   ]
  },
  {
   "cell_type": "code",
   "execution_count": 14,
   "metadata": {},
   "outputs": [
    {
     "name": "stdout",
     "output_type": "stream",
     "text": [
      "init\n"
     ]
    }
   ],
   "source": [
    "import time\n",
    "import MotorShield\n",
    "\n",
    "r = MotorShield.RobotCar()\n",
    "r.handle_init()\n",
    "\n",
    "r.handle_move(9)"
   ]
  },
  {
   "cell_type": "markdown",
   "metadata": {},
   "source": [
    "# TEST6\n",
    "\n",
    "ハンドルを左にきる"
   ]
  },
  {
   "cell_type": "code",
   "execution_count": 12,
   "metadata": {},
   "outputs": [
    {
     "name": "stdout",
     "output_type": "stream",
     "text": [
      "init\n"
     ]
    }
   ],
   "source": [
    "import time\n",
    "import MotorShield\n",
    "\n",
    "\n",
    "r = MotorShield.RobotCar()\n",
    "r.handle_init()\n",
    "\n",
    "r.handle_move(7.5)"
   ]
  },
  {
   "cell_type": "markdown",
   "metadata": {},
   "source": [
    "# TEST7\n",
    "\n",
    "ハンドルを右にきる"
   ]
  },
  {
   "cell_type": "code",
   "execution_count": 13,
   "metadata": {},
   "outputs": [
    {
     "name": "stdout",
     "output_type": "stream",
     "text": [
      "init\n"
     ]
    }
   ],
   "source": [
    "import time\n",
    "import MotorShield\n",
    "\n",
    "\n",
    "r = MotorShield.RobotCar()\n",
    "r.handle_init()\n",
    "\n",
    "r.handle_move(10.5)"
   ]
  },
  {
   "cell_type": "code",
   "execution_count": null,
   "metadata": {
    "collapsed": true
   },
   "outputs": [],
   "source": []
  }
 ],
 "metadata": {
  "kernelspec": {
   "display_name": "Python 2",
   "language": "python",
   "name": "python2"
  },
  "language_info": {
   "codemirror_mode": {
    "name": "ipython",
    "version": 2
   },
   "file_extension": ".py",
   "mimetype": "text/x-python",
   "name": "python",
   "nbconvert_exporter": "python",
   "pygments_lexer": "ipython2",
   "version": "2.7.9"
  }
 },
 "nbformat": 4,
 "nbformat_minor": 2
}
