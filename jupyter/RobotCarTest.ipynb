{
 "cells": [
  {
   "cell_type": "markdown",
   "metadata": {},
   "source": [
    "# TEST1\n",
    "I2Cが認識できているかのテスト\n",
    "\n",
    "0x64 Motor Driver 1\n",
    "0x65 Motor Driver 2\n",
    "0x70 PWM"
   ]
  },
  {
   "cell_type": "code",
   "execution_count": 1,
   "metadata": {},
   "outputs": [
    {
     "name": "stdout",
     "output_type": "stream",
     "text": [
      "     0  1  2  3  4  5  6  7  8  9  a  b  c  d  e  f\r\n",
      "00:          -- -- -- -- -- -- -- -- -- -- -- -- -- \r\n",
      "10: -- -- -- -- -- -- -- -- -- -- -- -- -- -- -- -- \r\n",
      "20: -- -- -- -- -- -- -- -- -- -- -- -- -- -- -- -- \r\n",
      "30: -- -- -- -- -- -- -- -- -- -- -- -- -- -- -- -- \r\n",
      "40: 40 -- -- -- -- -- -- -- -- -- -- -- -- -- -- -- \r\n",
      "50: -- -- -- -- -- -- -- -- -- -- -- -- -- -- -- -- \r\n",
      "60: -- -- -- -- 64 65 -- -- -- -- -- -- -- -- -- -- \r\n",
      "70: 70 -- -- -- -- -- -- --                         \r\n"
     ]
    }
   ],
   "source": [
    "!i2cdetect -y 1"
   ]
  },
  {
   "cell_type": "markdown",
   "metadata": {},
   "source": [
    "# TEST2\n",
    "\n",
    "前方方向への回転テスト"
   ]
  },
  {
   "cell_type": "code",
   "execution_count": 2,
   "metadata": {},
   "outputs": [
    {
     "name": "stdout",
     "output_type": "stream",
     "text": [
      "value = 99"
     ]
    }
   ],
   "source": [
    "import time\n",
    "import sys\n",
    "\n",
    "import MotorShield\n",
    "\n",
    "car = MotorShield.RobotCar()\n",
    "car.motor_stop()\n",
    "\n",
    "for i in range(50,100):\n",
    "    sys.stdout.write(\"\\rvalue = %d\" % i)\n",
    "    sys.stdout.flush()\n",
    "    car.motor_forward(i)\n",
    "    time.sleep(0.2)\n",
    "\n",
    "car.motor_stop()"
   ]
  },
  {
   "cell_type": "markdown",
   "metadata": {},
   "source": [
    "# TEST3\n",
    "\n",
    "後方方向への回転テスト"
   ]
  },
  {
   "cell_type": "code",
   "execution_count": 3,
   "metadata": {},
   "outputs": [
    {
     "name": "stdout",
     "output_type": "stream",
     "text": [
      "value = 99"
     ]
    }
   ],
   "source": [
    "import time\n",
    "import sys\n",
    "\n",
    "import MotorShield\n",
    "\n",
    "car = MotorShield.RobotCar()\n",
    "car.motor_stop()\n",
    "\n",
    "for i in range(50,100):\n",
    "    sys.stdout.write(\"\\rvalue = %d\" % i)\n",
    "    sys.stdout.flush()\n",
    "    car.motor_back(i)\n",
    "    time.sleep(0.2)\n",
    "\n",
    "car.motor_stop()"
   ]
  },
  {
   "cell_type": "markdown",
   "metadata": {},
   "source": [
    "# TEST4\n",
    "\n",
    "ブレーキテスト<br>\n",
    "3秒前進後、ブレーキ"
   ]
  },
  {
   "cell_type": "code",
   "execution_count": 4,
   "metadata": {
    "collapsed": true
   },
   "outputs": [],
   "source": [
    "import time\n",
    "import MotorShield\n",
    "\n",
    "car = MotorShield.RobotCar()\n",
    "car.motor_stop()\n",
    "\n",
    "car.motor_forward(100)\n",
    "time.sleep(3)\n",
    "car.motor_stop()\n",
    "car.motor_brake()"
   ]
  },
  {
   "cell_type": "markdown",
   "metadata": {},
   "source": [
    "# TEST5\n",
    "\n",
    "アングル指定でハンドルをニュートラル位置を確認する\n",
    "およそ290-310の範囲にあると思います"
   ]
  },
  {
   "cell_type": "code",
   "execution_count": 5,
   "metadata": {
    "collapsed": true
   },
   "outputs": [],
   "source": [
    "import time\n",
    "import MotorShield\n",
    "\n",
    "car = MotorShield.RobotCar()\n",
    "\n",
    "car.handle_angle(300)"
   ]
  },
  {
   "cell_type": "markdown",
   "metadata": {},
   "source": [
    "# TEST6\n",
    "\n",
    "アングル指定でハンドルを左にきる\n",
    "左はニュートラル位置-45"
   ]
  },
  {
   "cell_type": "code",
   "execution_count": null,
   "metadata": {
    "collapsed": true
   },
   "outputs": [],
   "source": [
    "import time\n",
    "import MotorShield\n",
    "\n",
    "car = MotorShield.RobotCar()\n",
    "\n",
    "car.handle_angle(300-45)"
   ]
  },
  {
   "cell_type": "markdown",
   "metadata": {},
   "source": [
    "# TEST7\n",
    "アングル指定でハンドルを右にきる\n",
    "右はニュートラル位置+45"
   ]
  },
  {
   "cell_type": "code",
   "execution_count": null,
   "metadata": {
    "collapsed": true
   },
   "outputs": [],
   "source": [
    "import time\n",
    "import MotorShield\n",
    "\n",
    "car = MotorShield.RobotCar()\n",
    "\n",
    "car.handle_angle(300-45)"
   ]
  },
  {
   "cell_type": "markdown",
   "metadata": {},
   "source": [
    "# TEST8\n",
    "\n",
    "ハンドルのニュートラル位置設定"
   ]
  },
  {
   "cell_type": "code",
   "execution_count": null,
   "metadata": {
    "collapsed": true
   },
   "outputs": [],
   "source": [
    "import time\n",
    "import MotorShield\n",
    "\n",
    "car = MotorShield.RobotCar()\n",
    "\n",
    "car.handle_forward(300)"
   ]
  },
  {
   "cell_type": "markdown",
   "metadata": {},
   "source": [
    "# TEST9\n",
    "\n",
    "ハンドルを左にきる"
   ]
  },
  {
   "cell_type": "code",
   "execution_count": 6,
   "metadata": {
    "collapsed": true
   },
   "outputs": [],
   "source": [
    "import time\n",
    "import MotorShield\n",
    "\n",
    "\n",
    "car = MotorShield.RobotCar()\n",
    "\n",
    "car.handle_left()"
   ]
  },
  {
   "cell_type": "markdown",
   "metadata": {},
   "source": [
    "# TEST10\n",
    "\n",
    "ハンドルを右にきる"
   ]
  },
  {
   "cell_type": "code",
   "execution_count": 7,
   "metadata": {
    "collapsed": true
   },
   "outputs": [],
   "source": [
    "import time\n",
    "import MotorShield\n",
    "\n",
    "\n",
    "car = MotorShield.RobotCar()\n",
    "\n",
    "car.handle_right()"
   ]
  },
  {
   "cell_type": "markdown",
   "metadata": {
    "collapsed": true
   },
   "source": [
    "# TEST11\n",
    "\n",
    "ハンドルをニュートラル位置に戻す"
   ]
  },
  {
   "cell_type": "code",
   "execution_count": 8,
   "metadata": {
    "collapsed": true
   },
   "outputs": [],
   "source": [
    "import time\n",
    "import MotorShield\n",
    "\n",
    "\n",
    "car = MotorShield.RobotCar()\n",
    "\n",
    "car.handle_forward()"
   ]
  },
  {
   "cell_type": "code",
   "execution_count": null,
   "metadata": {
    "collapsed": true
   },
   "outputs": [],
   "source": []
  }
 ],
 "metadata": {
  "kernelspec": {
   "display_name": "Python 2",
   "language": "python",
   "name": "python2"
  },
  "language_info": {
   "codemirror_mode": {
    "name": "ipython",
    "version": 2
   },
   "file_extension": ".py",
   "mimetype": "text/x-python",
   "name": "python",
   "nbconvert_exporter": "python",
   "pygments_lexer": "ipython2",
   "version": "2.7.12"
  }
 },
 "nbformat": 4,
 "nbformat_minor": 2
}
