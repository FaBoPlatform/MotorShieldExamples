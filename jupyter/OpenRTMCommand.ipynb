{
 "cells": [
  {
   "cell_type": "markdown",
   "metadata": {},
   "source": [
    "Omniorbが起動しているかの確認"
   ]
  },
  {
   "cell_type": "code",
   "execution_count": 8,
   "metadata": {},
   "outputs": [
    {
     "name": "stdout",
     "output_type": "stream",
     "text": [
      "root      3030  1.5  0.4  13280  3956 ?        Sl   10:26   0:00 /usr/bin/omniNames -errlog /var/log/omniorb-nameserver.log\r\n",
      "pi        3037  0.0  0.0   1912   400 pts/0    Ss+  10:26   0:00 /bin/sh -c ps -aux | grep omni\r\n",
      "pi        3039  0.0  0.2   4276  1948 pts/0    S+   10:26   0:00 grep omni\r\n"
     ]
    }
   ],
   "source": [
    "!ps -aux | grep omni"
   ]
  },
  {
   "cell_type": "markdown",
   "metadata": {},
   "source": [
    "Omniorbをrestart"
   ]
  },
  {
   "cell_type": "code",
   "execution_count": 7,
   "metadata": {},
   "outputs": [
    {
     "name": "stdout",
     "output_type": "stream",
     "text": [
      "Restarting omniorb4-nameserver (via systemctl): omniorb4-nameserver.service.\n"
     ]
    }
   ],
   "source": [
    "!sudo /etc/init.d/omniorb4-nameserver restart"
   ]
  },
  {
   "cell_type": "markdown",
   "metadata": {},
   "source": [
    "Omniorbがうまく起動しない場合は、/var/lib/omniorb/omninames-raspberrypi.logを消す"
   ]
  },
  {
   "cell_type": "code",
   "execution_count": 6,
   "metadata": {},
   "outputs": [],
   "source": [
    "!sudo rm -r /var/lib/omniorb/omninames-raspberrypi.log"
   ]
  },
  {
   "cell_type": "code",
   "execution_count": null,
   "metadata": {
    "collapsed": true
   },
   "outputs": [],
   "source": []
  }
 ],
 "metadata": {
  "kernelspec": {
   "display_name": "Python 2",
   "language": "python",
   "name": "python2"
  },
  "language_info": {
   "codemirror_mode": {
    "name": "ipython",
    "version": 2
   },
   "file_extension": ".py",
   "mimetype": "text/x-python",
   "name": "python",
   "nbconvert_exporter": "python",
   "pygments_lexer": "ipython2",
   "version": "2.7.9"
  }
 },
 "nbformat": 4,
 "nbformat_minor": 2
}
