{
 "cells": [
  {
   "cell_type": "markdown",
   "metadata": {},
   "source": [
    "# TEST1\n",
    "\n",
    "I2Cの認識\n",
    "\n",
    "* 0x63 I2C Motor1\n",
    "* 0x64 I2C Motor2\n",
    "* 0x70 PWM"
   ]
  },
  {
   "cell_type": "code",
   "execution_count": 11,
   "metadata": {},
   "outputs": [
    {
     "name": "stdout",
     "output_type": "stream",
     "text": [
      "     0  1  2  3  4  5  6  7  8  9  a  b  c  d  e  f\n",
      "00:          -- -- -- -- -- -- -- -- -- -- -- -- -- \n",
      "10: -- -- -- -- -- -- -- -- -- -- -- -- -- -- -- -- \n",
      "20: -- -- -- -- -- -- -- -- -- -- -- -- -- -- -- -- \n",
      "30: -- -- -- -- -- -- -- -- -- -- -- -- -- -- -- -- \n",
      "40: 40 -- -- -- -- -- -- -- -- -- -- -- -- -- -- -- \n",
      "50: -- -- -- -- -- -- -- -- -- -- -- -- -- -- -- -- \n",
      "60: -- -- -- 63 64 -- -- -- -- -- -- -- -- -- -- -- \n",
      "70: 70 -- -- -- -- -- -- --                         \n"
     ]
    }
   ],
   "source": [
    "!sudo i2cdetect -y 1"
   ]
  },
  {
   "cell_type": "markdown",
   "metadata": {},
   "source": [
    "# TEST2\n",
    "\n",
    "左のタイヤの前進を徐々に加速"
   ]
  },
  {
   "cell_type": "code",
   "execution_count": 1,
   "metadata": {},
   "outputs": [
    {
     "name": "stdout",
     "output_type": "stream",
     "text": [
      "value = 99"
     ]
    }
   ],
   "source": [
    "import time\n",
    "import sys\n",
    "import MotorShield\n",
    "\n",
    "r = MotorShield.RobotMouse()\n",
    "r.right_stop()\n",
    "\n",
    "for i in range(50,100):\n",
    "    sys.stdout.write(\"\\rvalue = %d\" % i)\n",
    "    sys.stdout.flush()\n",
    "    r.right_forward(i)\n",
    "    time.sleep(0.2)\n",
    "\n",
    "r.right_stop()"
   ]
  },
  {
   "cell_type": "markdown",
   "metadata": {},
   "source": [
    "# TEST3\n",
    "\n",
    "左のタイヤの後進を徐々に加速"
   ]
  },
  {
   "cell_type": "code",
   "execution_count": 2,
   "metadata": {},
   "outputs": [
    {
     "name": "stdout",
     "output_type": "stream",
     "text": [
      "value = 99"
     ]
    }
   ],
   "source": [
    "import time\n",
    "import sys\n",
    "import MotorShield\n",
    "\n",
    "r = MotorShield.RobotMouse()\n",
    "r.right_stop()\n",
    "\n",
    "for i in range(50,100):\n",
    "    sys.stdout.write(\"\\rvalue = %d\" % i)\n",
    "    sys.stdout.flush()\n",
    "    r.right_back(i)\n",
    "    time.sleep(0.2)\n",
    "\n",
    "r.right_stop()"
   ]
  },
  {
   "cell_type": "markdown",
   "metadata": {},
   "source": [
    "# TEST4\n",
    "\n",
    "右のタイヤの前進を徐々に加速"
   ]
  },
  {
   "cell_type": "code",
   "execution_count": 3,
   "metadata": {},
   "outputs": [
    {
     "name": "stdout",
     "output_type": "stream",
     "text": [
      "value = 99"
     ]
    }
   ],
   "source": [
    "import time\n",
    "import sys\n",
    "import MotorShield\n",
    "\n",
    "r = MotorShield.RobotMouse()\n",
    "r.left_stop()\n",
    "\n",
    "for i in range(50,100):\n",
    "    sys.stdout.write(\"\\rvalue = %d\" % i)\n",
    "    sys.stdout.flush()\n",
    "    r.left_forward(i)\n",
    "    time.sleep(0.2)\n",
    "\n",
    "r.left_stop()"
   ]
  },
  {
   "cell_type": "markdown",
   "metadata": {},
   "source": [
    "# TEST5\n",
    "\n",
    "右のタイヤの後進を徐々に加速"
   ]
  },
  {
   "cell_type": "code",
   "execution_count": 4,
   "metadata": {},
   "outputs": [
    {
     "name": "stdout",
     "output_type": "stream",
     "text": [
      "value = 99"
     ]
    }
   ],
   "source": [
    "import time\n",
    "import sys\n",
    "import MotorShield\n",
    "\n",
    "r = MotorShield.RobotMouse()\n",
    "r.left_stop()\n",
    "\n",
    "for i in range(50,100):\n",
    "    sys.stdout.write(\"\\rvalue = %d\" % i)\n",
    "    sys.stdout.flush()\n",
    "    r.left_back(i)\n",
    "    time.sleep(0.2)\n",
    "\n",
    "r.left_stop()"
   ]
  },
  {
   "cell_type": "markdown",
   "metadata": {},
   "source": [
    "# TEST6\n",
    "\n",
    "右を前進、左を後進して、徐々に加速"
   ]
  },
  {
   "cell_type": "code",
   "execution_count": 5,
   "metadata": {},
   "outputs": [
    {
     "name": "stdout",
     "output_type": "stream",
     "text": [
      "value = 99"
     ]
    }
   ],
   "source": [
    "import time\n",
    "import sys\n",
    "import MotorShield\n",
    "\n",
    "r = MotorShield.RobotMouse()\n",
    "r.left_stop()\n",
    "r.right_stop()\n",
    "\n",
    "for i in range(50,100):\n",
    "    sys.stdout.write(\"\\rvalue = %d\" % i)\n",
    "    sys.stdout.flush()\n",
    "    r.right_forward(i)\n",
    "    r.left_back(i)\n",
    "    time.sleep(0.2)\n",
    "\n",
    "r.left_stop()\n",
    "r.right_stop()"
   ]
  },
  {
   "cell_type": "markdown",
   "metadata": {},
   "source": [
    "# TEST7\n",
    "\n",
    "左を前進、右を全進して、徐々に加速"
   ]
  },
  {
   "cell_type": "code",
   "execution_count": 6,
   "metadata": {},
   "outputs": [
    {
     "name": "stdout",
     "output_type": "stream",
     "text": [
      "value = 99"
     ]
    }
   ],
   "source": [
    "import time\n",
    "import sys\n",
    "import MotorShield\n",
    "\n",
    "r = MotorShield.RobotMouse()\n",
    "r.left_stop()\n",
    "r.right_stop()\n",
    "\n",
    "for i in range(50,100):\n",
    "    sys.stdout.write(\"\\rvalue = %d\" % i)\n",
    "    sys.stdout.flush()\n",
    "    r.left_forward(i)\n",
    "    r.right_back(i)\n",
    "    time.sleep(0.2)\n",
    "\n",
    "r.left_stop()\n",
    "r.right_stop()\n"
   ]
  },
  {
   "cell_type": "markdown",
   "metadata": {},
   "source": [
    "# TEST8\n",
    "\n",
    "両輪をまわして前進"
   ]
  },
  {
   "cell_type": "code",
   "execution_count": 9,
   "metadata": {
    "collapsed": true
   },
   "outputs": [],
   "source": [
    "import time\n",
    "import MotorShield\n",
    "\n",
    "r = MotorShield.RobotMouse()\n",
    "r.right_stop()\n",
    "r.left_stop()\n",
    "\n",
    "r.right_forward(100)\n",
    "r.left_forward(100)\n",
    "\n",
    "time.sleep(3)\n",
    "r.right_stop()\n",
    "r.left_stop()\n",
    "r.right_brake()\n",
    "r.left_brake()"
   ]
  },
  {
   "cell_type": "markdown",
   "metadata": {},
   "source": [
    "# TEST9\n",
    "\n",
    "両輪をまわして後進"
   ]
  },
  {
   "cell_type": "code",
   "execution_count": 10,
   "metadata": {
    "collapsed": true
   },
   "outputs": [],
   "source": [
    "import time\n",
    "import MotorShield\n",
    "\n",
    "r = MotorShield.RobotMouse()\n",
    "r.right_stop()\n",
    "r.left_stop()\n",
    "\n",
    "r.right_back(100)\n",
    "r.left_back(100)\n",
    "\n",
    "time.sleep(3)\n",
    "r.right_stop()\n",
    "r.left_stop()\n",
    "r.right_brake()\n",
    "r.left_brake()"
   ]
  },
  {
   "cell_type": "code",
   "execution_count": null,
   "metadata": {
    "collapsed": true
   },
   "outputs": [],
   "source": []
  }
 ],
 "metadata": {
  "kernelspec": {
   "display_name": "Python 2",
   "language": "python",
   "name": "python2"
  },
  "language_info": {
   "codemirror_mode": {
    "name": "ipython",
    "version": 2
   },
   "file_extension": ".py",
   "mimetype": "text/x-python",
   "name": "python",
   "nbconvert_exporter": "python",
   "pygments_lexer": "ipython2",
   "version": "2.7.9"
  }
 },
 "nbformat": 4,
 "nbformat_minor": 2
}
